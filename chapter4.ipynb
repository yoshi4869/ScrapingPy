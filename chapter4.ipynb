{
 "metadata": {
  "language_info": {
   "codemirror_mode": {
    "name": "ipython",
    "version": 3
   },
   "file_extension": ".py",
   "mimetype": "text/x-python",
   "name": "python",
   "nbconvert_exporter": "python",
   "pygments_lexer": "ipython3",
   "version": "3.8.3-final"
  },
  "orig_nbformat": 2,
  "kernelspec": {
   "name": "Python 3.8.3 64-bit",
   "display_name": "Python 3.8.3 64-bit",
   "metadata": {
    "interpreter": {
     "hash": "20122760ba5c7b25f70b1f84dce14ea998443080952fb0d1a81f3c9b0edf00cf"
    }
   }
  }
 },
 "nbformat": 4,
 "nbformat_minor": 2,
 "cells": [
  {
   "cell_type": "code",
   "execution_count": 3,
   "metadata": {},
   "outputs": [
    {
     "output_type": "stream",
     "name": "stdout",
     "text": [
      "\n今日は何の日 10月25日\n\nレコンキスタ: リスボン攻防戦が終結。ポルトガルが、ムーア人の勢力下からリスボンを奪回（1147年）\n百年戦争: アジャンクールの戦い（1415年）\nローマ＝ベルリン枢軸形成（1936年）\n台湾光復（1945年）\n古寧頭の戦いが始まる（1949年）\n朝鮮戦争: 北朝鮮側に中国人民義勇軍が参戦（1950年）\n八海事件の第三次控訴審で4人の被告全員に無罪判決。事件から17年9か月後（1968年）\n国際連合総会で中華人民共和国招請及び中華民国追放決議案を可決（1971年）\n第一次オイルショック: 石油メジャー5社が原油の10%供給削減を通告（1973年）\nグレナダ侵攻（1983年）\nコンゴ共和国で、ドニ・サスヌゲソがパスカル・リスバ大統領を追放し、自ら大統領に就任（1997年）\n\n"
     ]
    }
   ],
   "source": [
    "import requests\n",
    "from bs4 import BeautifulSoup\n",
    "\n",
    "utl = \"https://ja.wikipedia.org/\" #対象とするURLを定義する\n",
    "response = requests.get(utl) #対象URLにHTTPリクエストを行い、HTTPレスポンスを取得する\n",
    "soup = BeautifulSoup(response.content, \"html.parser\")#読み込んだHTMLをBeautiful Soupでタグ単位に解析する\n",
    "today = soup.find(\"div\", attrs={\"id\": \"on_this_day\"}).text#「今日は何の日」の範囲のみを抽出する\n",
    "print(today)#Wikipediaの「今日は何の日」を出力する\n"
   ]
  },
  {
   "cell_type": "code",
   "execution_count": 7,
   "metadata": {},
   "outputs": [
    {
     "output_type": "stream",
     "name": "stdout",
     "text": [
      "[[1, 'レコンキスタ: リスボン攻防戦が終結。ポルトガルが、ムーア人の勢力下からリスボンを奪回（1147年）'], [2, '百年戦争: アジャンクールの戦い（1415年）'], [3, 'ローマ＝ベルリン枢軸形成（1936年）'], [4, '台湾光復（1945年）'], [5, '古寧頭の戦いが始まる（1949年）'], [6, '朝鮮戦争: 北朝鮮側に中国人民義勇軍が参戦（1950年）'], [7, '八海事件の第三次控訴審で4人の被告全員に無罪判決。事件から17年9か月後（1968年）'], [8, '国際連合総会で中華人民共和国招請及び中華民国追放決議案を可決（1971年）'], [9, '第一次オイルショック: 石油メジャー5社が原油の10%供給削減を通告（1973年）'], [10, 'グレナダ侵攻（1983年）'], [11, 'コンゴ共和国で、ドニ・サスヌゲソがパスカル・リスバ大統領を追放し、自ら大統領に就任（1997年）']]\n"
     ]
    }
   ],
   "source": [
    "import requests\n",
    "from bs4 import BeautifulSoup\n",
    "\n",
    "utl = \"https://ja.wikipedia.org/\" #対象とするURLを定義する\n",
    "response = requests.get(utl) #対象URLにHTTPリクエストを行い、HTTPレスポンスを取得する\n",
    "soup = BeautifulSoup(response.content, \"html.parser\")#読み込んだHTMLをBeautiful Soupでタグ単位に解析する\n",
    "today = soup.find(\"div\", attrs={\"id\": \"on_this_day\"})#「今日は何の日」の範囲のみを抽出する\n",
    "\n",
    "entries = today.find_all(\"li\") #find_allで\"li\"を抽出した結果をentriesリストに格納する\n",
    "today_list = [] #データ用のリストを宣言\n",
    "index = 1 #連番のための変数を宣言\n",
    "\n",
    "#today_listにデータを追加していく\n",
    "for entry in entries:\n",
    "    today_list.append([index, entry.get_text()])\n",
    "    index += 1\n",
    "print(today_list) #today_listの結果を出力する"
   ]
  },
  {
   "cell_type": "code",
   "execution_count": 8,
   "metadata": {},
   "outputs": [
    {
     "output_type": "stream",
     "name": "stdout",
     "text": [
      "0:レコンキスタ: リスボン攻防戦が終結。ポルトガルが、ムーア人の勢力下からリスボンを奪回（1147年）\n1:百年戦争: アジャンクールの戦い（1415年）\n2:ローマ＝ベルリン枢軸形成（1936年）\n3:台湾光復（1945年）\n4:古寧頭の戦いが始まる（1949年）\n5:朝鮮戦争: 北朝鮮側に中国人民義勇軍が参戦（1950年）\n6:八海事件の第三次控訴審で4人の被告全員に無罪判決。事件から17年9か月後（1968年）\n7:国際連合総会で中華人民共和国招請及び中華民国追放決議案を可決（1971年）\n8:第一次オイルショック: 石油メジャー5社が原油の10%供給削減を通告（1973年）\n9:グレナダ侵攻（1983年）\n10:コンゴ共和国で、ドニ・サスヌゲソがパスカル・リスバ大統領を追放し、自ら大統領に就任（1997年）\n"
     ]
    }
   ],
   "source": [
    "import requests\n",
    "from bs4 import BeautifulSoup\n",
    "\n",
    "utl = \"https://ja.wikipedia.org/\" #対象とするURLを定義する\n",
    "response = requests.get(utl) #対象URLにHTTPリクエストを行い、HTTPレスポンスを取得する\n",
    "soup = BeautifulSoup(response.content, \"html.parser\")#読み込んだHTMLをBeautiful Soupでタグ単位に解析する\n",
    "today = soup.find(\"div\", attrs={\"id\": \"on_this_day\"})#「今日は何の日」の範囲のみを抽出する\n",
    "\n",
    "entries = today.find_all(\"li\") #find_allで\"li\"を抽出した結果をentriesリストに格納する\n",
    "today_list = [] #データ用のリストを宣言\n",
    "index = 1 #連番のための変数を宣言\n",
    "\n",
    "#today_listにデータを追加していく\n",
    "#for文の中でrange 関数を使って採番し、その長さ（数値）を取り出す方法\n",
    "for entry in range(len(entries)):\n",
    "    print(f\"{entry}:{entries[entry].get_text()}\") #today_listの結果を出力する"
   ]
  },
  {
   "cell_type": "code",
   "execution_count": 10,
   "metadata": {},
   "outputs": [
    {
     "output_type": "stream",
     "name": "stdout",
     "text": [
      "1: レコンキスタ: リスボン攻防戦が終結。ポルトガルが、ムーア人の勢力下からリスボンを奪回（1147年） \n2: 百年戦争: アジャンクールの戦い（1415年） \n3: ローマ＝ベルリン枢軸形成（1936年） \n4: 台湾光復（1945年） \n5: 古寧頭の戦いが始まる（1949年） \n6: 朝鮮戦争: 北朝鮮側に中国人民義勇軍が参戦（1950年） \n7: 八海事件の第三次控訴審で4人の被告全員に無罪判決。事件から17年9か月後（1968年） \n8: 国際連合総会で中華人民共和国招請及び中華民国追放決議案を可決（1971年） \n9: 第一次オイルショック: 石油メジャー5社が原油の10%供給削減を通告（1973年） \n10: グレナダ侵攻（1983年） \n11: コンゴ共和国で、ドニ・サスヌゲソがパスカル・リスバ大統領を追放し、自ら大統領に就任（1997年） \n"
     ]
    }
   ],
   "source": [
    "import requests\n",
    "from bs4 import BeautifulSoup\n",
    "\n",
    "utl = \"https://ja.wikipedia.org/\" #対象とするURLを定義する\n",
    "response = requests.get(utl) #対象URLにHTTPリクエストを行い、HTTPレスポンスを取得する\n",
    "soup = BeautifulSoup(response.content, \"html.parser\")#読み込んだHTMLをBeautiful Soupでタグ単位に解析する\n",
    "today = soup.find(\"div\", attrs={\"id\": \"on_this_day\"})#「今日は何の日」の範囲のみを抽出する\n",
    "\n",
    "entries = today.find_all(\"li\") #find_allで\"li\"を抽出した結果をentriesリストに格納する\n",
    "today_list = [] #データ用のリストを宣言\n",
    "index = 1 #連番のための変数を宣言\n",
    "\n",
    "#today_listにデータを追加していく\n",
    "#for文の中でrange 関数を使って採番し、その長さ（数値）を取り出す方法\n",
    "for i, entry in enumerate(entries):\n",
    "    print(\"%d: %s \" % (i + 1, entry.get_text())) #enumarate()でリストにインデックス番号をつけて取り出す"
   ]
  },
  {
   "cell_type": "code",
   "execution_count": 11,
   "metadata": {},
   "outputs": [],
   "source": [
    "import requests\n",
    "from bs4 import BeautifulSoup\n",
    "import csv\n",
    "\n",
    "utl = \"https://ja.wikipedia.org/\" #対象とするURLを定義する\n",
    "response = requests.get(utl) #対象URLにHTTPリクエストを行い、HTTPレスポンスを取得する\n",
    "soup = BeautifulSoup(response.content, \"html.parser\")#読み込んだHTMLをBeautiful Soupでタグ単位に解析する\n",
    "today = soup.find(\"div\", attrs={\"id\": \"on_this_day\"})#「今日は何の日」の範囲のみを抽出する\n",
    "\n",
    "entries = today.find_all(\"li\") #find_allで\"li\"を抽出した結果をentriesリストに格納する\n",
    "today_list = [] #データ用のリストを宣言\n",
    "index = 1 #連番のための変数を宣言\n",
    "\n",
    "#today_listにデータを追加していく\n",
    "#for文の中でrange 関数を使って採番し、その長さ（数値）を取り出す方法\n",
    "for i, entry in enumerate(entries):\n",
    "    today_list.append([i + 1, entry.get_text()])\n",
    "with open(\"output.csv\", \"w\", encoding=\"Shift_JIS\") as file:\n",
    "    writer = csv.writer(file, lineterminator = \"\\n\")\n",
    "    writer.writerows(today_list)"
   ]
  },
  {
   "cell_type": "code",
   "execution_count": 12,
   "metadata": {},
   "outputs": [],
   "source": [
    "import requests\n",
    "from bs4 import BeautifulSoup\n",
    "import csv\n",
    "import re #正規表現を扱うためのライブラリ\n",
    "\n",
    "utl = \"https://ja.wikipedia.org/\" #対象とするURLを定義する\n",
    "response = requests.get(utl) #対象URLにHTTPリクエストを行い、HTTPレスポンスを取得する\n",
    "soup = BeautifulSoup(response.content, \"html.parser\")#読み込んだHTMLをBeautiful Soupでタグ単位に解析する\n",
    "\n",
    "top_entry = soup.find(\"div\", attrs={\"id\": \"on_this_day\"})#「今日は何の日」の範囲のみを抽出する\n",
    "entries = today.find_all(\"li\") #find_allで\"li\"を抽出した結果をentriesリストに格納する\n",
    "\n",
    "today_list = [] #データ用のリストを宣言\n",
    "\n",
    "#today_listにデータを追加していく\n",
    "#for文の中でrange 関数を使って採番し、その長さ（数値）を取り出す方法\n",
    "for i, entry in enumerate(entries):\n",
    "    today_text = entry.get_text().replace(\"（\",\"(\").replace(\"）\",\")\")#全角丸括弧を半角丸括弧に統一する\n",
    "    match = re.search(\"\\((.*?)年\\)\", today_text)#(****年)で囲まれているテキストの中身を抽出する\n",
    "    if match:\n",
    "        today_list.append([i+1,entry.get_text(), match.group(1)])#一致する年号がある場合はCSVに追加する\n",
    "    else:\n",
    "        today_list.append([i+1, entry.get_text()])\n",
    "\n",
    "with open(\"output.csv\", \"w\", encoding=\"Shift_JIS\") as file:\n",
    "    writer = csv.writer(file, lineterminator = \"\\n\")\n",
    "    writer.writerows(today_list)#output.csvの最後の列に年号が追加される"
   ]
  },
  {
   "cell_type": "code",
   "execution_count": 44,
   "metadata": {},
   "outputs": [
    {
     "output_type": "stream",
     "name": "stdout",
     "text": [
      "地域特有の偉人っているよな\nMeToo原則に基づき女性はAEDで救命されることはないというエビデンス - Togetter\nなぜバカは無敵で世の中に蔓延しているのか分かる『バカの研究』: わたしが知らないスゴ本は、きっとあなたが読んでいる\n「生前は雑音。評価は僕が死ぬまで分からない」――現代美術家・村上隆が語る創作とお金 - Yahoo!ニュース\nなぜ若者は、安倍晋三に続いて「菅義偉も」支持するのか（御田寺 圭） | 現代ビジネス | 講談社（1/7）\nN国党が始めた、批判者を標的とした「誹謗中傷示談金ビジネス」。被害者は心を病む人も | ハーバー・ビジネス・オンライン\nコロナ禍で減っている感染症と変わらない感染症　その要因を考察(忽那賢志) - 個人 - Yahoo!ニュース\n大阪都構想　反対が賛成上回る　９月上旬の前回調査から賛否逆転　世論調査 - 毎日新聞\nマイクロサービスにおける決済トランザクション管理 | メルカリエンジニアリング\n"
     ]
    }
   ],
   "source": [
    "import requests\n",
    "from bs4 import BeautifulSoup\n",
    "\n",
    "url = \"https://b.hatena.ne.jp/\"\n",
    "\n",
    "response = requests.get(url)\n",
    "soup = BeautifulSoup(response.content, \"html.parser\")\n",
    "top_entry = soup.find(\"section\", attrs={\"class\": \"entrylist-unit\"})\n",
    "entries = top_entry.find_all(\"h3\", attrs={\"class\": \"entrylist-contents-title\"})\n",
    "\n",
    "for entry in entries:\n",
    "    print(entry.find(\"a\").get(\"title\"))\n",
    "\n"
   ]
  },
  {
   "source": [
    "import requests\n",
    "from bs4 import BeautifulSoup\n",
    "\n",
    "url = \"https://b.hatena.ne.jp/\"\n",
    "\n",
    "response = requests.get(url)\n",
    "soup = BeautifulSoup(response.content, \"html.parser\")\n",
    "top_entry = soup.find(\"section\", attrs={\"class\": \"entrylist-unit\"})\n",
    "entries = top_entry.find_all(\"div\", attrs ={\"class\": \"entrylist-contents\"})\n",
    "\n",
    "for entry in entries:\n",
    "    title_tag = entry.find(\"h3\", attrs={\"class\": \"entrylist-contents-title\"})\n",
    "    title = title_tag.find(\"a\").get(\"title\")\n",
    "\n",
    "    users_tag = entry.find(\"span\", attrs={\"class\": \"entrylist-contents-users\"})\n",
    "    users = users_tag.get_text().strip()\n",
    "    print(title)\n",
    "    print(users)\n"
   ],
   "cell_type": "code",
   "metadata": {
    "tags": []
   },
   "execution_count": 9,
   "outputs": [
    {
     "output_type": "stream",
     "name": "stdout",
     "text": [
      "地域特有の偉人っているよな\n619 users\nMeToo原則に基づき女性はAEDで救命されることはないというエビデンス - Togetter\n242 users\nなぜバカは無敵で世の中に蔓延しているのか分かる『バカの研究』: わたしが知らないスゴ本は、きっとあなたが読んでいる\n304 users\n「生前は雑音。評価は僕が死ぬまで分からない」――現代美術家・村上隆が語る創作とお金 - Yahoo!ニュース\n282 users\nなぜ若者は、安倍晋三に続いて「菅義偉も」支持するのか（御田寺 圭） | 現代ビジネス | 講談社（1/7）\n398 users\nN国党が始めた、批判者を標的とした「誹謗中傷示談金ビジネス」。被害者は心を病む人も | ハーバー・ビジネス・オンライン\n349 users\nコロナ禍で減っている感染症と変わらない感染症　その要因を考察(忽那賢志) - 個人 - Yahoo!ニュース\n134 users\n大阪都構想　反対が賛成上回る　９月上旬の前回調査から賛否逆転　世論調査 - 毎日新聞\n139 users\nマイクロサービスにおける決済トランザクション管理 | メルカリエンジニアリング\n181 users\n"
     ]
    }
   ]
  },
  {
   "cell_type": "code",
   "execution_count": null,
   "metadata": {},
   "outputs": [],
   "source": []
  }
 ]
}