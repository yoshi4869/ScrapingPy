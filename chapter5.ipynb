{
 "metadata": {
  "language_info": {
   "codemirror_mode": {
    "name": "ipython",
    "version": 3
   },
   "file_extension": ".py",
   "mimetype": "text/x-python",
   "name": "python",
   "nbconvert_exporter": "python",
   "pygments_lexer": "ipython3",
   "version": "3.8.3-final"
  },
  "orig_nbformat": 2,
  "kernelspec": {
   "name": "Python 3.8.3 64-bit",
   "display_name": "Python 3.8.3 64-bit",
   "metadata": {
    "interpreter": {
     "hash": "20122760ba5c7b25f70b1f84dce14ea998443080952fb0d1a81f3c9b0edf00cf"
    }
   }
  }
 },
 "nbformat": 4,
 "nbformat_minor": 2,
 "cells": [
  {
   "cell_type": "code",
   "execution_count": 6,
   "metadata": {},
   "outputs": [
    {
     "output_type": "stream",
     "name": "stdout",
     "text": [
      "\n今日は何の日 10月25日\n\nレコンキスタ: リスボン攻防戦が終結。ポルトガルが、ムーア人の勢力下からリスボンを奪回（1147年）\n百年戦争: アジャンクールの戦い（1415年）\nローマ＝ベルリン枢軸形成（1936年）\n台湾光復（1945年）\n古寧頭の戦いが始まる（1949年）\n朝鮮戦争: 北朝鮮側に中国人民義勇軍が参戦（1950年）\n八海事件の第三次控訴審で4人の被告全員に無罪判決。事件から17年9か月後（1968年）\n国際連合総会で中華人民共和国招請及び中華民国追放決議案を可決（1971年）\n第一次オイルショック: 石油メジャー5社が原油の10%供給削減を通告（1973年）\nグレナダ侵攻（1983年）\nコンゴ共和国で、ドニ・サスヌゲソがパスカル・リスバ大統領を追放し、自ら大統領に就任（1997年）\n\n"
     ]
    }
   ],
   "source": [
    "import requests\n",
    "from bs4 import BeautifulSoup\n",
    "\n",
    "utl = \"https://ja.wikipedia.org/\" #対象とするURLを定義する\n",
    "response = requests.get(utl) #対象URLにHTTPリクエストを行い、HTTPレスポンスを取得する\n",
    "soup = BeautifulSoup(response.content, \"html.parser\")#読み込んだHTMLをBeautiful Soupでタグ単位に解析する\n",
    "today = soup.find(\"div\", attrs={\"id\": \"on_this_day\"}).text#「今日は何の日」の範囲のみを抽出する\n",
    "print(today)#Wikipediaの「今日は何の日」を出力する\n"
   ]
  },
  {
   "cell_type": "code",
   "execution_count": null,
   "metadata": {},
   "outputs": [],
   "source": []
  }
 ]
}